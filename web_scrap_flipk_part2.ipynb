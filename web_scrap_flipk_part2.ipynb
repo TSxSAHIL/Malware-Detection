{
 "cells": [
  {
   "cell_type": "code",
   "execution_count": 1,
   "metadata": {},
   "outputs": [],
   "source": [
    "import requests\n",
    "from bs4 import BeautifulSoup\n",
    "import pandas as pd"
   ]
  },
  {
   "cell_type": "code",
   "execution_count": 2,
   "metadata": {},
   "outputs": [],
   "source": [
    "url = 'https://www.flipkart.com/search?q=iphones&otracker=search&otracker1=search&marketplace=FLIPKART&as-show=on&as=off'"
   ]
  },
  {
   "cell_type": "code",
   "execution_count": 3,
   "metadata": {},
   "outputs": [],
   "source": [
    "req = requests.get(url)"
   ]
  },
  {
   "cell_type": "code",
   "execution_count": 4,
   "metadata": {},
   "outputs": [],
   "source": [
    "content = BeautifulSoup(req.content,'html.parser')"
   ]
  },
  {
   "cell_type": "code",
   "execution_count": 5,
   "metadata": {},
   "outputs": [],
   "source": [
    "name = content.find_all('div',{\"class\":\"_4rR01T\"})\n",
    "price = content.find_all('div',{\"class\":\"_30jeq3 _1_WHN1\"})\n",
    "rating = content.find_all('div',{\"class\":\"_3LWZlK\"})\n"
   ]
  },
  {
   "cell_type": "code",
   "execution_count": 6,
   "metadata": {},
   "outputs": [
    {
     "name": "stdout",
     "output_type": "stream",
     "text": [
      "<div class=\"_4rR01T\">APPLE iPhone 12 (Blue, 128 GB)</div>\n",
      "<div class=\"_30jeq3 _1_WHN1\">₹64,999</div>\n",
      "<div class=\"_3LWZlK\">4.7<img class=\"_1wB99o\" src=\"data:image/svg+xml;base64,PHN2ZyB4bWxucz0iaHR0cDovL3d3dy53My5vcmcvMjAwMC9zdmciIHdpZHRoPSIxMyIgaGVpZ2h0PSIxMiI+PHBhdGggZmlsbD0iI0ZGRiIgZD0iTTYuNSA5LjQzOWwtMy42NzQgMi4yMy45NC00LjI2LTMuMjEtMi44ODMgNC4yNTQtLjQwNEw2LjUuMTEybDEuNjkgNC4wMSA0LjI1NC40MDQtMy4yMSAyLjg4Mi45NCA0LjI2eiIvPjwvc3ZnPg==\"/></div>\n"
     ]
    }
   ],
   "source": [
    "print(name[0])\n",
    "print(price[0])\n",
    "print(rating[0])"
   ]
  },
  {
   "cell_type": "code",
   "execution_count": null,
   "metadata": {},
   "outputs": [],
   "source": [
    "#CLeaning of data"
   ]
  },
  {
   "cell_type": "code",
   "execution_count": 7,
   "metadata": {},
   "outputs": [],
   "source": [
    "nm = []\n",
    "pr = []\n",
    "rt = []"
   ]
  },
  {
   "cell_type": "code",
   "execution_count": 8,
   "metadata": {},
   "outputs": [],
   "source": [
    "for i in name:\n",
    "    nm.append(i.text)\n",
    "for i in price:\n",
    "    pr.append(i.text)\n",
    "for i in range(len(nm)):\n",
    "    rt.append(rating[i].text)"
   ]
  },
  {
   "cell_type": "code",
   "execution_count": 9,
   "metadata": {},
   "outputs": [],
   "source": [
    "data ={'NAME':nm, 'PRICE':pr,'RATING':rt}\n",
    "df=pd.DataFrame(data)"
   ]
  },
  {
   "cell_type": "code",
   "execution_count": 10,
   "metadata": {},
   "outputs": [
    {
     "name": "stdout",
     "output_type": "stream",
     "text": [
      "                                     NAME    PRICE RATING\n",
      "0          APPLE iPhone 12 (Blue, 128 GB)  ₹64,999    4.7\n",
      "1          APPLE iPhone 12 (Black, 64 GB)  ₹59,999    4.7\n",
      "2          APPLE iPhone SE (Black, 64 GB)  ₹29,999    4.5\n",
      "3   APPLE iPhone 12 Mini (Purple, 128 GB)  ₹54,999    4.5\n",
      "4            APPLE iPhone SE (Red, 64 GB)  ₹29,999    4.5\n",
      "5          APPLE iPhone SE (White, 64 GB)  ₹29,999    4.5\n",
      "6           APPLE iPhone 12 (Red, 128 GB)  ₹64,999    4.7\n",
      "7     APPLE iPhone 12 Mini (Blue, 128 GB)  ₹54,999    4.5\n",
      "8      APPLE iPhone 12 Mini (Red, 128 GB)  ₹54,999    4.5\n",
      "9     APPLE iPhone 12 Mini (White, 64 GB)  ₹49,999    4.5\n",
      "10           APPLE iPhone 12 (Red, 64 GB)  ₹59,999    4.7\n",
      "11   APPLE iPhone 12 Mini (Green, 128 GB)  ₹54,999    4.5\n",
      "12     APPLE iPhone 12 Mini (Blue, 64 GB)  ₹49,999    4.5\n",
      "13   APPLE iPhone 12 Mini (Black, 128 GB)  ₹54,999    4.5\n",
      "14    APPLE iPhone 12 Mini (Black, 64 GB)  ₹49,999    4.5\n",
      "15        APPLE iPhone 12 (Purple, 64 GB)  ₹59,999    4.7\n",
      "16   APPLE iPhone 12 Mini (Purple, 64 GB)  ₹49,999    4.5\n",
      "17        APPLE iPhone SE (White, 128 GB)  ₹34,999    4.5\n",
      "18        APPLE iPhone SE (Black, 128 GB)  ₹34,999    4.5\n",
      "19    APPLE iPhone 12 Mini (Green, 64 GB)  ₹49,999    4.5\n",
      "20          APPLE iPhone SE (Red, 128 GB)  ₹34,999    4.5\n",
      "21   APPLE iPhone 12 Mini (White, 128 GB)  ₹54,999    4.5\n",
      "22      APPLE iPhone 12 Mini (Red, 64 GB)  ₹49,999    4.5\n",
      "23          APPLE iPhone 12 (Blue, 64 GB)  ₹59,999    4.7\n"
     ]
    }
   ],
   "source": [
    "print(df)"
   ]
  },
  {
   "cell_type": "code",
   "execution_count": 14,
   "metadata": {},
   "outputs": [],
   "source": [
    "df.to_csv('flipkartIphones.csv')"
   ]
  }
 ],
 "metadata": {
  "kernelspec": {
   "display_name": "Python 3",
   "language": "python",
   "name": "python3"
  },
  "language_info": {
   "codemirror_mode": {
    "name": "ipython",
    "version": 3
   },
   "file_extension": ".py",
   "mimetype": "text/x-python",
   "name": "python",
   "nbconvert_exporter": "python",
   "pygments_lexer": "ipython3",
   "version": "3.8.5"
  }
 },
 "nbformat": 4,
 "nbformat_minor": 4
}
